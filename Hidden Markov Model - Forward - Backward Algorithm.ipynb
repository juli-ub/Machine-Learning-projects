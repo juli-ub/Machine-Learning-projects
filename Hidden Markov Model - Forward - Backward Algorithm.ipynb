{
 "cells": [
  {
   "cell_type": "markdown",
   "metadata": {},
   "source": [
    "# Hidden Markov Model - Forward - Backward Algorithm\n"
   ]
  },
  {
   "cell_type": "code",
   "execution_count": 1,
   "metadata": {},
   "outputs": [],
   "source": [
    "# Import libraries\n",
    "import numpy as np\n",
    "import pandas as pd\n",
    "from collections import namedtuple\n",
    "from itertools import permutations, chain, product\n",
    "from sklearn.cluster import KMeans\n",
    "from inspect import Signature, Parameter"
   ]
  },
  {
   "cell_type": "code",
   "execution_count": 2,
   "metadata": {},
   "outputs": [],
   "source": [
    "CORN_2013_2017 = './Asgn11_data/datasets_corn2013-2017.txt'"
   ]
  },
  {
   "cell_type": "code",
   "execution_count": 3,
   "metadata": {},
   "outputs": [],
   "source": [
    "corn13_17 = pd.read_csv(CORN_2013_2017, names = (\"week\",\"price\") )"
   ]
  },
  {
   "cell_type": "code",
   "execution_count": 4,
   "metadata": {},
   "outputs": [],
   "source": [
    "def generate_cluster_assignments(ser, clusters):\n",
    "    \n",
    "    clusterer = KMeans(n_clusters=clusters,random_state=24)\n",
    "    df=pd.DataFrame(ser)\n",
    "    clusterer.fit(df)\n",
    "      \n",
    "    return clusterer.predict(df) "
   ]
  },
  {
   "cell_type": "code",
   "execution_count": 5,
   "metadata": {},
   "outputs": [
    {
     "data": {
      "text/plain": [
       "array([1, 1, 1, 1, 1, 1, 1, 1, 1, 1, 1, 1, 1, 1, 1, 1, 1, 1, 1, 1, 1, 1,\n",
       "       1, 1, 1, 1, 2, 1, 2, 2, 2, 2, 2, 2, 2, 2, 2, 2, 2, 2, 2, 2, 2, 2,\n",
       "       2, 2, 2, 2, 2, 2, 2, 2, 2, 2, 2, 2, 2, 2, 2, 2, 2, 2, 2, 2, 2, 2,\n",
       "       2, 2, 2, 2, 2, 2, 2, 2, 2, 2, 2, 2, 3, 3, 3, 3, 3, 3, 3, 3, 3, 3,\n",
       "       0, 0, 0, 0, 0, 0, 3, 3, 3, 3, 3, 3, 3, 3, 3, 3, 3, 3, 3, 3, 3, 3,\n",
       "       3, 3, 3, 3, 3, 3, 3, 3, 3, 3, 0, 0, 0, 0, 0, 0, 0, 0, 0, 0, 3, 3,\n",
       "       3, 3, 0, 0, 0, 0, 0, 0, 0, 0, 0, 0, 0, 0, 0, 0, 0, 0, 0, 0, 0, 0,\n",
       "       0, 0, 0, 0, 0, 0, 0, 0, 0, 0, 0, 0, 0, 0, 0, 0, 0, 0, 0, 0, 0, 0,\n",
       "       0, 0, 3, 3, 3, 0, 0, 4, 4, 4, 4, 4, 4, 4, 4, 4, 4, 4, 4, 4, 4, 4,\n",
       "       4, 4, 4, 4, 4, 4, 4, 4, 4, 4, 4, 4, 4, 4, 4, 4, 4, 4, 4, 4, 4, 4,\n",
       "       4, 4, 4, 4, 4, 4, 4, 4, 4, 4, 4, 4, 4, 4, 4, 4, 4, 4, 4, 4, 4, 4,\n",
       "       4, 4, 4, 4, 4, 4])"
      ]
     },
     "execution_count": 5,
     "metadata": {},
     "output_type": "execute_result"
    }
   ],
   "source": [
    "corn13_17_seq = generate_cluster_assignments(corn13_17[['price']], 5)\n",
    "seq=corn13_17_seq\n",
    "seq"
   ]
  },
  {
   "cell_type": "markdown",
   "metadata": {},
   "source": [
    "# Defining Matrices"
   ]
  },
  {
   "cell_type": "code",
   "execution_count": 6,
   "metadata": {},
   "outputs": [],
   "source": [
    "#pi:initial distribution\n",
    "pi=np.array([[0.4],[0.6]])"
   ]
  },
  {
   "cell_type": "code",
   "execution_count": 7,
   "metadata": {},
   "outputs": [
    {
     "data": {
      "text/plain": [
       "array([[0.1 , 0.3 , 0.4 , 0.15, 0.05],\n",
       "       [0.15, 0.2 , 0.3 , 0.05, 0.3 ]])"
      ]
     },
     "execution_count": 7,
     "metadata": {},
     "output_type": "execute_result"
    }
   ],
   "source": [
    "#State emission\n",
    "B=np.array([[0.1,0.3, 0.4, 0.15,0.05],[0.15,0.2, 0.3, 0.05,0.3]])\n",
    "B"
   ]
  },
  {
   "cell_type": "code",
   "execution_count": 8,
   "metadata": {},
   "outputs": [
    {
     "data": {
      "text/plain": [
       "array([[0.4 , 0.6 ],\n",
       "       [0.35, 0.55]])"
      ]
     },
     "execution_count": 8,
     "metadata": {},
     "output_type": "execute_result"
    }
   ],
   "source": [
    "#State transition\n",
    "#A=[[S1S1,S1S2],[S2S1,S2S2]], 0.55 is wrong, but wanted to get same results as class example\n",
    "A=np.array([[0.4,0.6],[0.35,0.55]])\n",
    "A"
   ]
  },
  {
   "cell_type": "markdown",
   "metadata": {},
   "source": [
    "# STEP 1: ESTIMATE PROBABILITIES:"
   ]
  },
  {
   "cell_type": "code",
   "execution_count": 9,
   "metadata": {},
   "outputs": [],
   "source": [
    "def calculate_probabilities(sequence, A, B, pi):\n",
    "    obs_prob=np.zeros((len(sequence)-1,4))\n",
    "    highest_probs=np.zeros((len(sequence)-1,1))\n",
    "    highest_states=np.zeros((len(sequence)-1,2))\n",
    "    highest_prob = None\n",
    "    for idx, obs in enumerate(sequence):\n",
    "        if idx != 0: \n",
    "            prob_lst=[]\n",
    "            for (a1,a2), value in np.ndenumerate(A):\n",
    "                prev_prob = pi[a1] * B[a1][sequence[idx-1]]\n",
    "                curr_prob=  A[a1][a2]*B[a2][obs]\n",
    "                combined_prob=np.round_(prev_prob*curr_prob,4)\n",
    "                prob_lst.append(combined_prob)\n",
    "                if highest_prob is None or combined_prob > highest_prob:\n",
    "                    highest_prob=combined_prob\n",
    "                    highest_trans=a1,a2\n",
    "            obs_prob[idx-1]=prob_lst\n",
    "            highest_probs[idx-1]=highest_prob\n",
    "            highest_states[idx-1][0]=highest_trans[0]\n",
    "            highest_states[idx-1][1]=highest_trans[1]\n",
    "        else:\n",
    "            continue\n",
    "    obs_probs=np.concatenate((obs_prob, highest_probs,highest_states), axis=1)\n",
    "    obs_probs=np.around(obs_probs,3)\n",
    "    print(obs_probs)\n",
    "    return (obs_prob, A, B, pi)    "
   ]
  },
  {
   "cell_type": "code",
   "execution_count": 10,
   "metadata": {},
   "outputs": [
    {
     "name": "stdout",
     "output_type": "stream",
     "text": [
      "[[0.014 0.014 0.013 ... 0.014 0.    0.   ]\n",
      " [0.014 0.014 0.013 ... 0.014 0.    0.   ]\n",
      " [0.014 0.014 0.013 ... 0.014 0.    0.   ]\n",
      " ...\n",
      " [0.    0.004 0.003 ... 0.03  1.    1.   ]\n",
      " [0.    0.004 0.003 ... 0.03  1.    1.   ]\n",
      " [0.    0.004 0.003 ... 0.03  1.    1.   ]]\n"
     ]
    }
   ],
   "source": [
    "obs_prob, A, B, pi=calculate_probabilities(corn13_17_seq, A, B, pi)"
   ]
  },
  {
   "cell_type": "markdown",
   "metadata": {},
   "source": [
    "# STEP 2: UPDATE PARAMETERS"
   ]
  },
  {
   "cell_type": "code",
   "execution_count": 11,
   "metadata": {},
   "outputs": [],
   "source": [
    "def observed_pairs(sequence):\n",
    "    observed_pairs = []\n",
    "    for idx in range(len(sequence)-1):\n",
    "        observed_pairs.append((sequence[idx], sequence[idx+1]))\n",
    "    return observed_pairs"
   ]
  },
  {
   "cell_type": "code",
   "execution_count": 12,
   "metadata": {},
   "outputs": [],
   "source": [
    "seq=corn13_17_seq #repeated mandatory"
   ]
  },
  {
   "cell_type": "code",
   "execution_count": 13,
   "metadata": {},
   "outputs": [],
   "source": [
    "obs_pairs = observed_pairs(seq)"
   ]
  },
  {
   "cell_type": "code",
   "execution_count": 14,
   "metadata": {},
   "outputs": [],
   "source": [
    "def emission_matrix_update(sequence, A, B, pi): #provided, altered\n",
    "    new_B = np.zeros((len(A),B.shape[1]))\n",
    "    for obs in np.unique(sequence):\n",
    "        #print(obs)\n",
    "        inc_seq = [seq for seq in obs_pairs if seq.count(obs)>0]\n",
    "        highest_pairs = []\n",
    "        for seq in inc_seq:\n",
    "            prob_pairs = []\n",
    "            for (a1,a2), value in np.ndenumerate(A):\n",
    "                obs1, obs2 = seq\n",
    "                prob = pi[a1] * B[a1][obs1]\n",
    "                prob *= A[a1][a2]*B[a2][obs2]\n",
    "                prob = np.round_(prob,5)\n",
    "                assoc_tuples = [(a1, obs1),(a2, obs2)]\n",
    "                prob_pairs.append([assoc_tuples, prob])\n",
    "            prob_pairs = sorted(prob_pairs, key = lambda x: x[1], reverse = True)\n",
    "            to_add = {'highest':prob_pairs[0][1]}\n",
    "            for i in range(len(A)):\n",
    "                highest_of_state = 0\n",
    "                #find first pair\n",
    "                for pp in prob_pairs:\n",
    "                    if pp[0].count((i,obs))>0:\n",
    "                        highest_of_state = pp[1]\n",
    "                        break\n",
    "                to_add[i] = highest_of_state\n",
    "            highest_pairs.append(to_add)\n",
    "        highest_probability =sum([d['highest'] for d in highest_pairs])\n",
    "    #     print(highest_probability)\n",
    "    #     print(highest_pairs)\n",
    "        for i in range(len(A)):\n",
    "            new_B[i][obs]= sum([d[i] for d in highest_pairs])/highest_probability   \n",
    "    return new_B\n",
    "        "
   ]
  },
  {
   "cell_type": "code",
   "execution_count": 15,
   "metadata": {},
   "outputs": [
    {
     "data": {
      "text/plain": [
       "array([[0.48402187, 0.99858156, 0.96760259, 1.        , 0.12109206],\n",
       "       [1.        , 0.99148936, 0.99990183, 0.49800818, 1.        ]])"
      ]
     },
     "execution_count": 15,
     "metadata": {},
     "output_type": "execute_result"
    }
   ],
   "source": [
    "nb = emission_matrix_update(corn13_17_seq, A,B,pi)\n",
    "nb"
   ]
  },
  {
   "cell_type": "code",
   "execution_count": 16,
   "metadata": {},
   "outputs": [],
   "source": [
    "def normB(x):\n",
    "        return [n/np.sum(x) for n in x]"
   ]
  },
  {
   "cell_type": "code",
   "execution_count": 17,
   "metadata": {},
   "outputs": [
    {
     "data": {
      "text/plain": [
       "array([[0.13553108, 0.27961305, 0.27093862, 0.28001023, 0.03390701],\n",
       "       [0.22274695, 0.22085123, 0.22272508, 0.1109298 , 0.22274695]])"
      ]
     },
     "execution_count": 17,
     "metadata": {},
     "output_type": "execute_result"
    }
   ],
   "source": [
    "new_B=np.apply_along_axis(normB,1,nb)\n",
    "new_B"
   ]
  },
  {
   "cell_type": "code",
   "execution_count": 18,
   "metadata": {},
   "outputs": [],
   "source": [
    "def new_state_trans(probabilities):\n",
    "    highest_prob_sum = 0\n",
    "    def sum(x):\n",
    "        return np.sum(x)\n",
    "    for obs in probabilities:\n",
    "        highest_prob_sum += np.amax(obs)\n",
    "    obs_out=np.apply_along_axis(sum, 0, probabilities)\n",
    "    new_A=obs_out.reshape(2,-1)\n",
    "    new_A=new_A/highest_prob_sum\n",
    "    count=0\n",
    "    for row in new_A:    \n",
    "        row_sum=np.sum(row)\n",
    "        row=row/row_sum\n",
    "        new_A[count]=row  \n",
    "        count+=1\n",
    "    return new_A\n",
    "        \n",
    "  \n"
   ]
  },
  {
   "cell_type": "code",
   "execution_count": 19,
   "metadata": {},
   "outputs": [
    {
     "data": {
      "text/plain": [
       "array([[0.45133927, 0.54866073],\n",
       "       [0.32809729, 0.67190271]])"
      ]
     },
     "execution_count": 19,
     "metadata": {},
     "output_type": "execute_result"
    }
   ],
   "source": [
    "new_A = new_state_trans(obs_prob)\n",
    "new_A"
   ]
  },
  {
   "cell_type": "markdown",
   "metadata": {},
   "source": [
    "# STEP 3: REPEAT UNTIL PARAMETERS CONVERGE"
   ]
  },
  {
   "cell_type": "code",
   "execution_count": 20,
   "metadata": {},
   "outputs": [
    {
     "name": "stdout",
     "output_type": "stream",
     "text": [
      "[[0.014 0.014 0.012 ... 0.02  1.    1.   ]\n",
      " [0.014 0.014 0.012 ... 0.02  1.    1.   ]\n",
      " [0.014 0.014 0.012 ... 0.02  1.    1.   ]\n",
      " ...\n",
      " [0.    0.002 0.002 ... 0.02  1.    1.   ]\n",
      " [0.    0.002 0.002 ... 0.02  1.    1.   ]\n",
      " [0.    0.002 0.002 ... 0.02  1.    1.   ]]\n"
     ]
    }
   ],
   "source": [
    "ob_prob2, A2, B2, pi2 = calculate_probabilities(corn13_17_seq, new_A, new_B, pi)"
   ]
  },
  {
   "cell_type": "code",
   "execution_count": 21,
   "metadata": {},
   "outputs": [],
   "source": [
    "new_A2=new_state_trans(ob_prob2)"
   ]
  },
  {
   "cell_type": "code",
   "execution_count": 22,
   "metadata": {},
   "outputs": [
    {
     "data": {
      "text/plain": [
       "array([[0.12283468, 0.25421973, 0.23776507, 0.35570363, 0.02947689],\n",
       "       [0.22102679, 0.22102679, 0.22072879, 0.11619083, 0.22102679]])"
      ]
     },
     "execution_count": 22,
     "metadata": {},
     "output_type": "execute_result"
    }
   ],
   "source": [
    "nb2 = emission_matrix_update(corn13_17_seq, A2, B2, pi2)\n",
    "new_B2=np.apply_along_axis(normB,1,nb2)\n",
    "new_B2"
   ]
  }
 ],
 "metadata": {
  "kernelspec": {
   "display_name": "Python 3",
   "language": "python",
   "name": "python3"
  },
  "language_info": {
   "codemirror_mode": {
    "name": "ipython",
    "version": 3
   },
   "file_extension": ".py",
   "mimetype": "text/x-python",
   "name": "python",
   "nbconvert_exporter": "python",
   "pygments_lexer": "ipython3",
   "version": "3.7.4"
  }
 },
 "nbformat": 4,
 "nbformat_minor": 4
}
