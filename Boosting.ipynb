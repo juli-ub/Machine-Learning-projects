{
 "cells": [
  {
   "cell_type": "markdown",
   "metadata": {},
   "source": [
    "# Boosting"
   ]
  },
  {
   "cell_type": "markdown",
   "metadata": {},
   "source": [
    "Simple Classifier"
   ]
  },
  {
   "cell_type": "code",
   "execution_count": 7,
   "metadata": {},
   "outputs": [],
   "source": [
    "import pandas as pd\n",
    "import numpy as np\n",
    "import matplotlib.pyplot as plt\n",
    "%matplotlib inline"
   ]
  },
  {
   "cell_type": "code",
   "execution_count": 8,
   "metadata": {},
   "outputs": [],
   "source": [
    "def find_splits(col):\n",
    "    col=np.sort(np.unique(col))\n",
    "   \n",
    "    split_values=np.array((np.array(col[1:]) + np.array(col[:-1]) )/ 2)\n",
    "    return split_values"
   ]
  },
  {
   "cell_type": "markdown",
   "metadata": {},
   "source": [
    "$$Entropy_{(\\text{node})} = -p_{\\text{class1}}*\\log_2(p_{\\text{class1}}) + -p_{\\text{class2}}*\\log_2(p_{\\text{class2}})$$"
   ]
  },
  {
   "cell_type": "code",
   "execution_count": 9,
   "metadata": {},
   "outputs": [],
   "source": [
    "def entropy(class1_n, class2_n):\n",
    "    if (class1_n == 0) or (class2_n == 0):\n",
    "        return 0\n",
    "    total = class1_n + class2_n\n",
    "    class1_proprtion = class1_n/total\n",
    "    class2_proportion = class2_n/total\n",
    "    return  sum([-1 * prop * np.log2(prop)\n",
    "                 for prop in [class1_proprtion, class2_proportion] ])"
   ]
  },
  {
   "cell_type": "markdown",
   "metadata": {},
   "source": [
    "\n",
    "$$Entropy_{(\\text{split})} = p_{\\text{node1}} * Entropy_{\\text{(node1})}+ p_{\\text{node2}}* Entropy_{(\\text{node2})},$$  "
   ]
  },
  {
   "cell_type": "code",
   "execution_count": 10,
   "metadata": {},
   "outputs": [],
   "source": [
    "def node_classes(col, split_value, labels): #provided\n",
    "        le_node = labels[col <= split_value]\n",
    "        g_node = labels[col > split_value]\n",
    "\n",
    "        le_c1 = np.count_nonzero(le_node)\n",
    "        le_c2 = len(le_node) - le_c1\n",
    "\n",
    "        g_c1 = np.count_nonzero(g_node)\n",
    "        g_c2 = len(g_node) - g_c1    \n",
    "        return le_c1, le_c2, g_c1, g_c2"
   ]
  },
  {
   "cell_type": "code",
   "execution_count": 11,
   "metadata": {},
   "outputs": [],
   "source": [
    "def ent_from_split(col, split_value, labels):\n",
    "    A_1,A_0,B_1,B_0=node_classes(col, split_value, labels)\n",
    "    \n",
    "    entA = entropy(A_1,A_0)\n",
    "    entB=entropy(B_1,B_0)\n",
    "    total = len(col)\n",
    "    \n",
    "    pA=(A_1+A_0)/(total)\n",
    "    pB=(B_1+B_0)/(total)    \n",
    "    return pA*entA+pB*entB"
   ]
  },
  {
   "cell_type": "code",
   "execution_count": 12,
   "metadata": {},
   "outputs": [],
   "source": [
    "def pred_from_split(X, y, col_idx, split_value): \n",
    "    le_c1,le_c2,g_c1,g_c2=node_classes(X[:,col_idx], split_value, y)\n",
    "    def pred_for_node(c11,c12):\n",
    "        if c11>c12: return True\n",
    "        elif c11<c12: return False\n",
    "        else: return None\n",
    "    left = pred_for_node(le_c1,le_c2)\n",
    "    right = pred_for_node(g_c1,g_c2)\n",
    "    if ((right==None)or left==None) and (right!=left):\n",
    "        if left ==None:\n",
    "            left = not right\n",
    "        else:\n",
    "            right = not left\n",
    "    if (right==None) and (left==None):\n",
    "        right = True\n",
    "        left = True\n",
    "\n",
    "    return (int(left),int(right))"
   ]
  },
  {
   "cell_type": "code",
   "execution_count": 13,
   "metadata": {},
   "outputs": [],
   "source": [
    "def simple_binary_tree_predict(X, col_idx, split_value, left_pred, right_pred):\n",
    "    col = X[:,col_idx]\n",
    "    col=np.where(col<=split_value, left_pred, right_pred)\n",
    "    return np.array(col)"
   ]
  },
  {
   "cell_type": "code",
   "execution_count": 14,
   "metadata": {},
   "outputs": [],
   "source": [
    "def simple_binary_tree_fit(X,y): #provided\n",
    "    best_split = (-1,-1,1)    \n",
    "    for col_idx, col in enumerate(X.T):\n",
    "        splits = find_splits(col)\n",
    "        for s in splits:\n",
    "            ent = ent_from_split(col, s, y)          \n",
    "            if ent < best_split[2]:\n",
    "                best_split = (col_idx, s, ent) \n",
    "    left_pred, right_pred = pred_from_split(X, y, *best_split[:2])    \n",
    "    col_idx, split_value = best_split[:2]    \n",
    "    return col_idx, split_value, left_pred, right_pred"
   ]
  },
  {
   "cell_type": "code",
   "execution_count": 15,
   "metadata": {},
   "outputs": [
    {
     "name": "stdout",
     "output_type": "stream",
     "text": [
      "[1 1 0 0 0]\n"
     ]
    }
   ],
   "source": [
    "X = np.array([[0.5, 3. ], [1.,  2. ], [3.,  0.5],\n",
    "                [2.,  3. ], [3.,  4. ]])\n",
    "col_idx = 0\n",
    "split_value = 1.5\n",
    "left_pred = 1\n",
    "right_pred = 0\n",
    "\n",
    "preds = simple_binary_tree_predict(X, col_idx, split_value, left_pred, right_pred)\n",
    "\n",
    "print(preds)"
   ]
  },
  {
   "cell_type": "markdown",
   "metadata": {},
   "source": [
    "# Adaptive Boosting Algorithm"
   ]
  },
  {
   "cell_type": "code",
   "execution_count": 16,
   "metadata": {},
   "outputs": [],
   "source": [
    "def default_weights(n):\n",
    "    return np.full(n,1/n)"
   ]
  },
  {
   "cell_type": "markdown",
   "metadata": {},
   "source": [
    "$$\\epsilon_t = \\sum_{i=1}^nw_t(i)\\mathbb{1}\\{y_i\\ne f_t(x_i)\\}$$  "
   ]
  },
  {
   "cell_type": "code",
   "execution_count": 17,
   "metadata": {},
   "outputs": [],
   "source": [
    "def calc_epsilon(y_true, y_pred, weights):\n",
    "    summ=0\n",
    "    for i in range(len(y_true)):\n",
    "        if y_true[i]!=y_pred[i]:\n",
    "            summ=summ+weights[i]\n",
    "    return np.float(summ)"
   ]
  },
  {
   "cell_type": "markdown",
   "metadata": {},
   "source": [
    "$$\\alpha_t = \\frac12ln(\\frac{1-\\epsilon_t}{\\epsilon_t})$$  "
   ]
  },
  {
   "cell_type": "code",
   "execution_count": 18,
   "metadata": {},
   "outputs": [],
   "source": [
    "def calc_alpha(epsilon):\n",
    "    if epsilon==0:\n",
    "        return np.inf\n",
    "    else:\n",
    "        return 0.5*np.log((1-epsilon)/epsilon)"
   ]
  },
  {
   "cell_type": "markdown",
   "metadata": {},
   "source": [
    "$$w_{t+1}(i) = \\frac{\\hat{w}_{t+1}(i)}{\\sum_j\\hat{w}_{t+1}(j)}$$  \n",
    "\n",
    "\n",
    "$$\\hat{w}_{t+1}(i) = w_t(i)e^{-\\alpha_ty_if_t(x_i)}$$"
   ]
  },
  {
   "cell_type": "code",
   "execution_count": 19,
   "metadata": {},
   "outputs": [],
   "source": [
    "def update_weights(weights, alpha, y_true, y_pred):\n",
    "    def target_for_weight_update(y):\n",
    "        toRet=y.copy()\n",
    "        toRet[toRet==0]=-1\n",
    "        return toRet\n",
    "    y=target_for_weight_update(y_true)\n",
    "    pred=target_for_weight_update(y_pred)\n",
    "    weights=weights*np.exp(-alpha*y*pred)\n",
    "    weights=weights/sum(weights)\n",
    "    return weights"
   ]
  },
  {
   "cell_type": "markdown",
   "metadata": {},
   "source": [
    "Prediction from boosted trees\n"
   ]
  },
  {
   "cell_type": "markdown",
   "metadata": {},
   "source": [
    "$$f_{boost}(x_0) = sign(\\sum_{t=1}^T\\alpha_tf_t(X_0))$$  "
   ]
  },
  {
   "cell_type": "code",
   "execution_count": 20,
   "metadata": {},
   "outputs": [],
   "source": [
    "def predict(X, est_dict):\n",
    "    fin_preds=np.zeros(X.shape[0])\n",
    "    for k in est_dict:\n",
    "        preds=est_dict[k][0].predict(X)\n",
    "        preds[preds<1]=-1\n",
    "        preds=preds*est_dict[k][1]\n",
    "        fin_preds +=preds\n",
    "    fin_preds[fin_preds>=0]=1\n",
    "    fin_preds[fin_preds<0]=0\n",
    "    return fin_preds"
   ]
  },
  {
   "cell_type": "code",
   "execution_count": 21,
   "metadata": {},
   "outputs": [
    {
     "data": {
      "image/png": "[encoded data removed]",
      "text/plain": [
       "<Figure size 288x288 with 1 Axes>"
      ]
     },
     "metadata": {
      "needs_background": "light"
     },
     "output_type": "display_data"
    },
    {
     "name": "stdout",
     "output_type": "stream",
     "text": [
      "df:\n",
      "      x    y  classification\n",
      "0  0.5  3.0               1\n",
      "1  1.0  2.0               1\n",
      "2  3.0  0.5              -1\n",
      "3  2.0  3.0              -1\n",
      "4  3.0  4.0               1\n",
      "5  3.5  2.5              -1\n",
      "6  3.6  4.7               1\n",
      "7  4.0  4.2               1\n",
      "8  4.5  2.0              -1\n",
      "9  4.7  4.5              -1 \n",
      "\n",
      "threshold: 1.5 feature: 0\n",
      "threshold: 4.25 feature: 0\n",
      "\n",
      "tree1 predictions on all elements: [1 1 0 0 0 0 0 0 0 0]\n",
      "tree2 predictions on all elements: [1 1 1 1 1 1 1 1 0 0]\n",
      "\n",
      "Entropy of different splits for observations 5-9\n",
      "Col 1, @ 3.35: 0.5509775004326937\n",
      "Col 0, # 4.25: 0.5509775004326937\n"
     ]
    }
   ],
   "source": [
    "#provided\n",
    "from sklearn.tree import DecisionTreeClassifier\n",
    "\n",
    "def simple_tree():\n",
    "    return DecisionTreeClassifier(criterion = 'entropy', max_depth= 1)\n",
    "\n",
    "#example\n",
    "pts = [[.5, 3,1],[1,2,1],[3,.5,-1],[2,3,-1],[3,4,1],\n",
    " [3.5,2.5,-1],[3.6,4.7,1],[4,4.2,1],[4.5,2,-1],[4.7,4.5,-1]]\n",
    "\n",
    "df = pd.DataFrame(pts, columns = ['x','y','classification'])\n",
    "\n",
    "# Plotting by category\n",
    "\n",
    "b = df[df.classification ==1]\n",
    "r = df[df.classification ==-1]\n",
    "plt.figure(figsize = (4,4))\n",
    "plt.scatter(b.x, b.y, color = 'b', marker=\"+\", s = 400)\n",
    "plt.scatter(r.x, r.y, color = 'r', marker = \"o\", s = 400)\n",
    "plt.title(\"Categories Denoted by Color/Shape\")\n",
    "plt.show()\n",
    "\n",
    "\n",
    "print(\"df:\\n\",df, \"\\n\")\n",
    "\n",
    "### split out X and y\n",
    "X = df[['x','y']]\n",
    "\n",
    "# Change from -1 and 1 to 0 and 1\n",
    "y = np.array([1 if x == 1 else 0 for x in df['classification']])\n",
    "\n",
    "### Split data in half\n",
    "X1 = X.iloc[:len(X.index)//2, :]\n",
    "X2 = X.iloc[len(X.index)//2:, :]\n",
    "\n",
    "y1 = y[:len(y)//2]\n",
    "y2 = y[len(X)//2:]\n",
    "\n",
    "\n",
    "### Fit classifier to both sets of data, save to dictionary:\n",
    "\n",
    "tree_dict = {}\n",
    "\n",
    "tree1 = simple_tree()\n",
    "tree1.fit(X1,y1)\n",
    "print(\"threshold:\", tree1.tree_.threshold[0], \"feature:\", tree1.tree_.feature[0])\n",
    "\n",
    "### made up alpha, for example\n",
    "alpha1 = .6\n",
    "tree_dict[1] = (tree1, alpha1)\n",
    "\n",
    "tree2 = simple_tree()\n",
    "tree2.fit(X2,y2)\n",
    "print(\"threshold:\", tree2.tree_.threshold[0], \"feature:\" ,tree2.tree_.feature[0])\n",
    "\n",
    "### made up alpha, again.\n",
    "alpha2 = .35\n",
    "\n",
    "tree_dict[2] = (tree2, alpha2)\n",
    "\n",
    "### Create predictions using trees stored in dictionary\n",
    "print(\"\\ntree1 predictions on all elements:\", tree_dict[1][0].predict(X))\n",
    "print(\"tree2 predictions on all elements:\", tree_dict[2][0].predict(X))\n",
    "\n",
    "### Showing Ent\n",
    "print(\"\\nEntropy of different splits for observations 5-9\")\n",
    "print(\"Col 1, @ 3.35:\", ent_from_split(X2.iloc[:,1].values,3.35, y2))\n",
    "print(\"Col 0, # 4.25:\", ent_from_split(X2.iloc[:,0].values, 4.25, y2))"
   ]
  },
  {
   "cell_type": "code",
   "execution_count": 22,
   "metadata": {},
   "outputs": [
    {
     "name": "stdout",
     "output_type": "stream",
     "text": [
      "threshold: 4.25 feature: 0\n",
      "[1. 1. 0. 0. 0. 0. 0. 0. 0. 0.]\n"
     ]
    }
   ],
   "source": [
    "alpha1 = .6\n",
    "tree_dict[1] = (tree1, alpha1)\n",
    "\n",
    "tree2 = simple_tree()\n",
    "tree2.fit(X2,y2)\n",
    "print(\"threshold:\", tree2.tree_.threshold[0], \"feature:\" ,tree2.tree_.feature[0])\n",
    "\n",
    "\n",
    "alpha2 = .35\n",
    "tree_dict[2] = (tree2, alpha2)\n",
    "\n",
    "print(predict(X, tree_dict))"
   ]
  }
 ],
 "metadata": {
  "kernelspec": {
   "display_name": "Python 3",
   "language": "python",
   "name": "python3"
  },
  "language_info": {
   "codemirror_mode": {
    "name": "ipython",
    "version": 3
   },
   "file_extension": ".py",
   "mimetype": "text/x-python",
   "name": "python",
   "nbconvert_exporter": "python",
   "pygments_lexer": "ipython3",
   "version": "3.7.4"
  }
 },
 "nbformat": 4,
 "nbformat_minor": 4
}
